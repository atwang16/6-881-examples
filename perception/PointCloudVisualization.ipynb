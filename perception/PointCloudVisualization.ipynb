{
 "cells": [
  {
   "cell_type": "code",
   "execution_count": 1,
   "metadata": {},
   "outputs": [],
   "source": [
    "%reload_ext autoreload\n",
    "%autoreload 2\n",
    "\n",
    "import numpy as np\n",
    "import meshcat\n",
    "\n",
    "from estimate_door_angle import GetDoorPose, get_door_angle\n",
    "from perception_tools.visualization_utils import *\n",
    "from pydrake.common.eigen_geometry import Isometry3"
   ]
  },
  {
   "cell_type": "code",
   "execution_count": 2,
   "metadata": {},
   "outputs": [
    {
     "name": "stdout",
     "output_type": "stream",
     "text": [
      "You can open the visualizer by visiting the following URL:\n",
      "http://127.0.0.1:7000/static/\n"
     ]
    }
   ],
   "source": [
    "vis = meshcat.Visualizer()"
   ]
  },
  {
   "cell_type": "code",
   "execution_count": 3,
   "metadata": {},
   "outputs": [],
   "source": [
    "is_planner_models = False\n",
    "basepath = \"../plan_runner/\" if is_planner_models else \"\""
   ]
  },
  {
   "cell_type": "code",
   "execution_count": 4,
   "metadata": {},
   "outputs": [],
   "source": [
    "model_left_door = np.load(\"models/left_door_model.npy\")\n",
    "model_right_door = np.load(\"models/right_door_model.npy\")"
   ]
  },
  {
   "cell_type": "code",
   "execution_count": 5,
   "metadata": {},
   "outputs": [
    {
     "name": "stdout",
     "output_type": "stream",
     "text": [
      "[[ 0.86717124 -0.49800802  0.         -0.49876164]\n",
      " [ 0.49800802  0.86717124  0.         -0.4520682 ]\n",
      " [ 0.          0.          1.          0.        ]\n",
      " [ 0.          0.          0.          1.        ]]\n",
      "[[ 0.8679843   0.4965829   0.         -0.4994646 ]\n",
      " [-0.4965829   0.8679843   0.          0.47771431]\n",
      " [ 0.          0.          1.          0.        ]\n",
      " [ 0.          0.          0.          1.        ]]\n",
      "[[ 0.86717124  0.49800802  0.          0.65764534]\n",
      " [-0.49800802  0.86717124  0.          0.14363325]\n",
      " [ 0.          0.          1.          0.        ]\n",
      " [ 0.          0.          0.          1.        ]]\n",
      "[[ 0.8679843  -0.4965829   0.          0.67075219]\n",
      " [ 0.4965829   0.8679843   0.         -0.16662295]\n",
      " [ 0.          0.          1.          0.        ]\n",
      " [ 0.          0.          0.          1.        ]]\n",
      "0.5213025259275126\n",
      "0.5196675799705425\n"
     ]
    }
   ],
   "source": [
    "# Calculate the pose of the brick in the simulation\n",
    "isometries = GetDoorPose(\"config/sim.yml\", viz=True, left_door_angle=0.52, right_door_angle=0.52)\n",
    "X_WLDoor = isometries[\"left_door\"][0]\n",
    "X_WRDoor = isometries[\"right_door\"][0]\n",
    "print X_WLDoor\n",
    "print X_WRDoor\n",
    "print X_WLDoor.inverse()\n",
    "print X_WRDoor.inverse()\n",
    "print get_door_angle(X_WLDoor)\n",
    "print get_door_angle(X_WRDoor, flip_sign=True)"
   ]
  },
  {
   "cell_type": "code",
   "execution_count": 6,
   "metadata": {},
   "outputs": [],
   "source": [
    "# load and visualize the total aligned scene points\n",
    "scene_points = np.load(basepath + \"saved_point_clouds/aligned_scene_points_left_door.npy\")\n",
    "scene_colors = np.load(basepath + \"saved_point_clouds/aligned_scene_colors_left_door.npy\")\n",
    "PlotMeshcatPointCloud(vis, \"scene\", scene_points, scene_colors)"
   ]
  },
  {
   "cell_type": "code",
   "execution_count": 7,
   "metadata": {},
   "outputs": [],
   "source": [
    "# load and visualize the segmented brick points and the guess of the\n",
    "# pose of the brick\n",
    "left_door_points = np.load(basepath + \"saved_point_clouds/segmented_scene_points_left_door.npy\")\n",
    "left_door_colors = np.load(basepath + \"saved_point_clouds/segmented_scene_colors_left_door.npy\")\n",
    "right_door_points = np.load(basepath + \"saved_point_clouds/segmented_scene_points_right_door.npy\")\n",
    "right_door_colors = np.load(basepath + \"saved_point_clouds/segmented_scene_colors_right_door.npy\")\n",
    "\n",
    "PlotMeshcatPointCloud(vis, \"left_door\", left_door_points, left_door_colors)\n",
    "PlotMeshcatPointCloud(vis, \"right_door\", right_door_points, right_door_colors)\n",
    "VisualizeTransform(vis, model_left_door, X_WLDoor.inverse().matrix(), name=\"left_door_transform\")\n",
    "VisualizeTransform(vis, model_right_door, X_WRDoor.inverse().matrix(), name=\"right_door_transform\")"
   ]
  },
  {
   "cell_type": "code",
   "execution_count": null,
   "metadata": {},
   "outputs": [],
   "source": [
    "# load and visualize the raw point clouds from each camera\n",
    "leftcam_left_door_points = np.load(basepath + \"saved_point_clouds/left_points_left_door.npy\")\n",
    "leftcam_left_door_colors = np.load(basepath + \"saved_point_clouds/left_colors_left_door.npy\")\n",
    "PlotMeshcatPointCloud(vis, \"leftcam_left_door_points\", left_points, left_colors)\n",
    "\n",
    "middle_points = np.load(basepath + \"saved_point_clouds/middle_points.npy\")\n",
    "middle_colors = np.load(basepath + \"saved_point_clouds/middle_colors.npy\")\n",
    "PlotMeshcatPointCloud(vis, \"middle_points\", middle_points, middle_colors)\n",
    "\n",
    "right_points = np.load(basepath + \"saved_point_clouds/right_points.npy\")\n",
    "right_colors = np.load(basepath + \"saved_point_clouds/right_colors.npy\")\n",
    "PlotMeshcatPointCloud(vis, \"right_points\", right_points, right_colors)"
   ]
  },
  {
   "cell_type": "code",
   "execution_count": 15,
   "metadata": {},
   "outputs": [],
   "source": [
    "# clear everything\n",
    "vis.delete()"
   ]
  },
  {
   "cell_type": "code",
   "execution_count": null,
   "metadata": {},
   "outputs": [],
   "source": []
  }
 ],
 "metadata": {
  "kernelspec": {
   "display_name": "Python 2",
   "language": "python",
   "name": "python2"
  },
  "language_info": {
   "codemirror_mode": {
    "name": "ipython",
    "version": 2
   },
   "file_extension": ".py",
   "mimetype": "text/x-python",
   "name": "python",
   "nbconvert_exporter": "python",
   "pygments_lexer": "ipython2",
   "version": "2.7.12"
  }
 },
 "nbformat": 4,
 "nbformat_minor": 2
}

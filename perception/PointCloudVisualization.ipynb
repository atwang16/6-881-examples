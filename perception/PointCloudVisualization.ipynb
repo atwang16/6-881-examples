{
 "cells": [
  {
   "cell_type": "code",
   "execution_count": 47,
   "metadata": {},
   "outputs": [],
   "source": [
    "%reload_ext autoreload\n",
    "%autoreload 2\n",
    "\n",
    "import numpy as np\n",
    "import meshcat\n",
    "\n",
    "from estimate_door_angle import GetDoorPose\n",
    "from perception_tools.visualization_utils import *"
   ]
  },
  {
   "cell_type": "code",
   "execution_count": 2,
   "metadata": {},
   "outputs": [
    {
     "name": "stdout",
     "output_type": "stream",
     "text": [
      "You can open the visualizer by visiting the following URL:\n",
      "http://127.0.0.1:7001/static/\n"
     ]
    }
   ],
   "source": [
    "vis = meshcat.Visualizer()"
   ]
  },
  {
   "cell_type": "code",
   "execution_count": 48,
   "metadata": {},
   "outputs": [],
   "source": [
    "model_left_door = np.load(\"models/left_door_model.npy\")\n",
    "model_right_door = np.load(\"models/right_door_model.npy\")"
   ]
  },
  {
   "cell_type": "code",
   "execution_count": 63,
   "metadata": {},
   "outputs": [
    {
     "name": "stdout",
     "output_type": "stream",
     "text": [
      "[[ 0.25501499 -0.96693339  0.          0.08048135]\n",
      " [ 0.96693339  0.25501499  0.         -0.62138797]\n",
      " [ 0.          0.          1.          0.        ]\n",
      " [ 0.          0.          0.          1.        ]] [[ 1.         -0.          0.         -0.74066833]\n",
      " [ 0.          1.          0.          0.14492425]\n",
      " [ 0.          0.          1.          0.        ]\n",
      " [ 0.          0.          0.          1.        ]]\n"
     ]
    }
   ],
   "source": [
    "# Calculate the pose of the brick in the simulation\n",
    "X_WLDoor, X_WRDoor = GetDoorPose(\"config/sim.yml\", viz=True, left_door_angle=1.308996939)\n",
    "print X_WLDoor, X_WRDoor"
   ]
  },
  {
   "cell_type": "code",
   "execution_count": 64,
   "metadata": {},
   "outputs": [],
   "source": [
    "# load and visualize the total aligned scene points\n",
    "scene_points = np.load(\"saved_point_clouds/aligned_scene_points_left_door.npy\")\n",
    "scene_colors = np.load(\"saved_point_clouds/aligned_scene_colors_left_door.npy\")\n",
    "PlotMeshcatPointCloud(vis, \"scene\", scene_points, scene_colors)"
   ]
  },
  {
   "cell_type": "code",
   "execution_count": 65,
   "metadata": {},
   "outputs": [],
   "source": [
    "# load and visualize the segmented brick points and the guess of the\n",
    "# pose of the brick\n",
    "left_door_points = np.load(\"saved_point_clouds/segmented_scene_points_left_door.npy\")\n",
    "left_door_colors = np.load(\"saved_point_clouds/segmented_scene_colors_left_door.npy\")\n",
    "right_door_points = np.load(\"saved_point_clouds/segmented_scene_points_right_door.npy\")\n",
    "right_door_colors = np.load(\"saved_point_clouds/segmented_scene_colors_right_door.npy\")\n",
    "\n",
    "PlotMeshcatPointCloud(vis, \"left_door\", left_door_points, left_door_colors)\n",
    "PlotMeshcatPointCloud(vis, \"right_door\", right_door_points, right_door_colors)\n",
    "VisualizeTransform(vis, model_left_door, X_WLDoor.inverse().matrix())\n",
    "# VisualizeTransform(vis, model_right_door, X_WRDoor.inverse().matrix())"
   ]
  },
  {
   "cell_type": "code",
   "execution_count": null,
   "metadata": {},
   "outputs": [],
   "source": [
    "# load and visualize the raw point clouds from each camera\n",
    "leftcam_left_door_points = np.load(\"saved_point_clouds/left_points_left_door.npy\")\n",
    "leftcam_left_door_colors = np.load(\"saved_point_clouds/left_colors_left_door.npy\")\n",
    "PlotMeshcatPointCloud(vis, \"leftcam_left_door_points\", left_points, left_colors)\n",
    "\n",
    "middle_points = np.load(\"saved_point_clouds/middle_points.npy\")\n",
    "middle_colors = np.load(\"saved_point_clouds/middle_colors.npy\")\n",
    "PlotMeshcatPointCloud(vis, \"middle_points\", middle_points, middle_colors)\n",
    "\n",
    "right_points = np.load(\"saved_point_clouds/right_points.npy\")\n",
    "right_colors = np.load(\"saved_point_clouds/right_colors.npy\")\n",
    "PlotMeshcatPointCloud(vis, \"right_points\", right_points, right_colors)"
   ]
  },
  {
   "cell_type": "code",
   "execution_count": null,
   "metadata": {},
   "outputs": [],
   "source": [
    "# clear everything\n",
    "vis.delete()"
   ]
  },
  {
   "cell_type": "code",
   "execution_count": null,
   "metadata": {},
   "outputs": [],
   "source": []
  }
 ],
 "metadata": {
  "kernelspec": {
   "display_name": "Python 2",
   "language": "python",
   "name": "python2"
  },
  "language_info": {
   "codemirror_mode": {
    "name": "ipython",
    "version": 2
   },
   "file_extension": ".py",
   "mimetype": "text/x-python",
   "name": "python",
   "nbconvert_exporter": "python",
   "pygments_lexer": "ipython2",
   "version": "2.7.12"
  }
 },
 "nbformat": 4,
 "nbformat_minor": 2
}
